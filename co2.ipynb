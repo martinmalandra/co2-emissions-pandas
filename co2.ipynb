{
 "cells": [
  {
   "cell_type": "markdown",
   "metadata": {},
   "source": [
    "# Análisis Exploratorio De Datos Con Pandas: Emisiones Globales De CO2 y su Relación con el PBI"
   ]
  },
  {
   "cell_type": "markdown",
   "metadata": {},
   "source": [
    "El objetivo del presente proyecto es responder a las siguientes preguntas:\n",
    "\n",
    "* ¿Cuáles son los países que registran mayores emisiones?\n",
    "* ¿Qué correlación existe entre PBI y emisiones de CO2?"
   ]
  },
  {
   "cell_type": "code",
   "execution_count": 1,
   "metadata": {},
   "outputs": [],
   "source": [
    "# Preparación de entorno\n",
    "\n",
    "import pandas as pd\n",
    "import numpy as np\n",
    "import matplotlib.pyplot as plt\n",
    "import seaborn as sns"
   ]
  },
  {
   "cell_type": "code",
   "execution_count": 2,
   "metadata": {},
   "outputs": [],
   "source": [
    "# Eliminando notación científica\n",
    "\n",
    "pd.set_option('display.float_format', '{:.2f}'.format)"
   ]
  },
  {
   "cell_type": "markdown",
   "metadata": {},
   "source": [
    "### Set de datos CO2"
   ]
  },
  {
   "cell_type": "code",
   "execution_count": 3,
   "metadata": {},
   "outputs": [],
   "source": [
    "# Lectura de archivo\n",
    "\n",
    "co2_raw = pd.read_csv(\"co2.csv\")"
   ]
  },
  {
   "cell_type": "code",
   "execution_count": 4,
   "metadata": {},
   "outputs": [
    {
     "data": {
      "text/plain": [
       "Index(['Country Name', 'Country Code', 'Series Name', 'Series Code',\n",
       "       '1960 [YR1960]', '1961 [YR1961]', '1962 [YR1962]', '1963 [YR1963]',\n",
       "       '1964 [YR1964]', '1965 [YR1965]', '1966 [YR1966]', '1967 [YR1967]',\n",
       "       '1968 [YR1968]', '1969 [YR1969]', '1970 [YR1970]', '1971 [YR1971]',\n",
       "       '1972 [YR1972]', '1973 [YR1973]', '1974 [YR1974]', '1975 [YR1975]',\n",
       "       '1976 [YR1976]', '1977 [YR1977]', '1978 [YR1978]', '1979 [YR1979]',\n",
       "       '1980 [YR1980]', '1981 [YR1981]', '1982 [YR1982]', '1983 [YR1983]',\n",
       "       '1984 [YR1984]', '1985 [YR1985]', '1986 [YR1986]', '1987 [YR1987]',\n",
       "       '1988 [YR1988]', '1989 [YR1989]', '1990 [YR1990]', '1991 [YR1991]',\n",
       "       '1992 [YR1992]', '1993 [YR1993]', '1994 [YR1994]', '1995 [YR1995]',\n",
       "       '1996 [YR1996]', '1997 [YR1997]', '1998 [YR1998]', '1999 [YR1999]',\n",
       "       '2000 [YR2000]', '2001 [YR2001]', '2002 [YR2002]', '2003 [YR2003]',\n",
       "       '2004 [YR2004]', '2005 [YR2005]', '2006 [YR2006]', '2007 [YR2007]',\n",
       "       '2008 [YR2008]', '2009 [YR2009]', '2010 [YR2010]', '2011 [YR2011]',\n",
       "       '2012 [YR2012]', '2013 [YR2013]', '2014 [YR2014]', '2015 [YR2015]',\n",
       "       '2016 [YR2016]', '2017 [YR2017]', '2018 [YR2018]', '2019 [YR2019]',\n",
       "       '2020 [YR2020]', '2021 [YR2021]', '2022 [YR2022]'],\n",
       "      dtype='object')"
      ]
     },
     "execution_count": 4,
     "metadata": {},
     "output_type": "execute_result"
    }
   ],
   "source": [
    "# Columnas\n",
    "\n",
    "co2_raw.columns"
   ]
  },
  {
   "cell_type": "code",
   "execution_count": 5,
   "metadata": {},
   "outputs": [],
   "source": [
    "# df['column_name'] = pd.to_numeric(df['column_name'], errors='coerce')\n",
    "\n",
    "co2_raw['1960 [YR1960]'] = pd.to_numeric(co2_raw['1960 [YR1960]'], errors='coerce') # errors coerce reemplaza los strings por NaN\n",
    "co2_raw['1961 [YR1961]'] = pd.to_numeric(co2_raw['1961 [YR1961]'], errors='coerce')\n",
    "co2_raw['1962 [YR1962]'] = pd.to_numeric(co2_raw['1962 [YR1962]'], errors='coerce')\n",
    "co2_raw['1963 [YR1963]'] = pd.to_numeric(co2_raw['1963 [YR1963]'], errors='coerce')\n",
    "co2_raw['1964 [YR1964]'] = pd.to_numeric(co2_raw['1964 [YR1964]'], errors='coerce')\n",
    "co2_raw['1965 [YR1965]'] = pd.to_numeric(co2_raw['1965 [YR1965]'], errors='coerce')\n",
    "co2_raw['1966 [YR1966]'] = pd.to_numeric(co2_raw['1966 [YR1966]'], errors='coerce')\n",
    "co2_raw['1967 [YR1967]'] = pd.to_numeric(co2_raw['1967 [YR1967]'], errors='coerce')\n",
    "co2_raw['1968 [YR1968]'] = pd.to_numeric(co2_raw['1968 [YR1968]'], errors='coerce')\n",
    "co2_raw['1969 [YR1969]'] = pd.to_numeric(co2_raw['1969 [YR1969]'], errors='coerce')\n",
    "co2_raw['1970 [YR1970]'] = pd.to_numeric(co2_raw['1970 [YR1970]'], errors='coerce')\n",
    "co2_raw['1971 [YR1971]'] = pd.to_numeric(co2_raw['1971 [YR1971]'], errors='coerce')\n",
    "co2_raw['1972 [YR1972]'] = pd.to_numeric(co2_raw['1972 [YR1972]'], errors='coerce')\n",
    "co2_raw['1973 [YR1973]'] = pd.to_numeric(co2_raw['1973 [YR1973]'], errors='coerce')\n",
    "co2_raw['1974 [YR1974]'] = pd.to_numeric(co2_raw['1974 [YR1974]'], errors='coerce')\n",
    "co2_raw['1975 [YR1975]'] = pd.to_numeric(co2_raw['1975 [YR1975]'], errors='coerce')\n",
    "co2_raw['1976 [YR1976]'] = pd.to_numeric(co2_raw['1976 [YR1976]'], errors='coerce')\n",
    "co2_raw['1977 [YR1977]'] = pd.to_numeric(co2_raw['1977 [YR1977]'], errors='coerce')\n",
    "co2_raw['1978 [YR1978]'] = pd.to_numeric(co2_raw['1978 [YR1978]'], errors='coerce')\n",
    "co2_raw['1979 [YR1979]'] = pd.to_numeric(co2_raw['1979 [YR1979]'], errors='coerce')\n",
    "co2_raw['1980 [YR1980]'] = pd.to_numeric(co2_raw['1980 [YR1980]'], errors='coerce')\n",
    "co2_raw['1981 [YR1981]'] = pd.to_numeric(co2_raw['1981 [YR1981]'], errors='coerce')\n",
    "co2_raw['1982 [YR1982]'] = pd.to_numeric(co2_raw['1982 [YR1982]'], errors='coerce')\n",
    "co2_raw['1983 [YR1983]'] = pd.to_numeric(co2_raw['1983 [YR1983]'], errors='coerce')\n",
    "co2_raw['1984 [YR1984]'] = pd.to_numeric(co2_raw['1984 [YR1984]'], errors='coerce')\n",
    "co2_raw['1985 [YR1985]'] = pd.to_numeric(co2_raw['1985 [YR1985]'], errors='coerce')\n",
    "co2_raw['1986 [YR1986]'] = pd.to_numeric(co2_raw['1986 [YR1986]'], errors='coerce')\n",
    "co2_raw['1987 [YR1987]'] = pd.to_numeric(co2_raw['1987 [YR1987]'], errors='coerce')\n",
    "co2_raw['1988 [YR1988]'] = pd.to_numeric(co2_raw['1988 [YR1988]'], errors='coerce')\n",
    "co2_raw['1989 [YR1989]'] = pd.to_numeric(co2_raw['1989 [YR1989]'], errors='coerce')\n",
    "co2_raw['1990 [YR1990]'] = pd.to_numeric(co2_raw['1990 [YR1990]'], errors='coerce')\n",
    "co2_raw['1991 [YR1991]'] = pd.to_numeric(co2_raw['1991 [YR1991]'], errors='coerce')\n",
    "co2_raw['1992 [YR1992]'] = pd.to_numeric(co2_raw['1992 [YR1992]'], errors='coerce')\n",
    "co2_raw['1993 [YR1993]'] = pd.to_numeric(co2_raw['1993 [YR1993]'], errors='coerce')\n",
    "co2_raw['1994 [YR1994]'] = pd.to_numeric(co2_raw['1994 [YR1994]'], errors='coerce')\n",
    "co2_raw['1995 [YR1995]'] = pd.to_numeric(co2_raw['1995 [YR1995]'], errors='coerce')\n",
    "co2_raw['1996 [YR1996]'] = pd.to_numeric(co2_raw['1996 [YR1996]'], errors='coerce')\n",
    "co2_raw['1997 [YR1997]'] = pd.to_numeric(co2_raw['1997 [YR1997]'], errors='coerce')\n",
    "co2_raw['1998 [YR1998]'] = pd.to_numeric(co2_raw['1998 [YR1998]'], errors='coerce')\n",
    "co2_raw['1999 [YR1999]'] = pd.to_numeric(co2_raw['1999 [YR1999]'], errors='coerce')\n",
    "co2_raw['2000 [YR2000]'] = pd.to_numeric(co2_raw['2000 [YR2000]'], errors='coerce')\n",
    "co2_raw['2001 [YR2001]'] = pd.to_numeric(co2_raw['2001 [YR2001]'], errors='coerce')\n",
    "co2_raw['2002 [YR2002]'] = pd.to_numeric(co2_raw['2002 [YR2002]'], errors='coerce')\n",
    "co2_raw['2003 [YR2003]'] = pd.to_numeric(co2_raw['2003 [YR2003]'], errors='coerce')\n",
    "co2_raw['2004 [YR2004]'] = pd.to_numeric(co2_raw['2004 [YR2004]'], errors='coerce')\n",
    "co2_raw['2005 [YR2005]'] = pd.to_numeric(co2_raw['2005 [YR2005]'], errors='coerce')\n",
    "co2_raw['2006 [YR2006]'] = pd.to_numeric(co2_raw['2006 [YR2006]'], errors='coerce')\n",
    "co2_raw['2007 [YR2007]'] = pd.to_numeric(co2_raw['2007 [YR2007]'], errors='coerce')\n",
    "co2_raw['2008 [YR2008]'] = pd.to_numeric(co2_raw['2008 [YR2008]'], errors='coerce')\n",
    "co2_raw['2009 [YR2009]'] = pd.to_numeric(co2_raw['2009 [YR2009]'], errors='coerce')\n",
    "co2_raw['2010 [YR2010]'] = pd.to_numeric(co2_raw['2010 [YR2010]'], errors='coerce')\n",
    "co2_raw['2011 [YR2011]'] = pd.to_numeric(co2_raw['2011 [YR2011]'], errors='coerce')\n",
    "co2_raw['2012 [YR2012]'] = pd.to_numeric(co2_raw['2012 [YR2012]'], errors='coerce')\n",
    "co2_raw['2013 [YR2013]'] = pd.to_numeric(co2_raw['2013 [YR2013]'], errors='coerce')\n",
    "co2_raw['2014 [YR2014]'] = pd.to_numeric(co2_raw['2014 [YR2014]'], errors='coerce')\n",
    "co2_raw['2015 [YR2015]'] = pd.to_numeric(co2_raw['2015 [YR2015]'], errors='coerce')\n",
    "co2_raw['2016 [YR2016]'] = pd.to_numeric(co2_raw['2016 [YR2016]'], errors='coerce')\n",
    "co2_raw['2017 [YR2017]'] = pd.to_numeric(co2_raw['2017 [YR2017]'], errors='coerce')\n",
    "co2_raw['2018 [YR2018]'] = pd.to_numeric(co2_raw['2018 [YR2018]'], errors='coerce')\n",
    "co2_raw['2019 [YR2019]'] = pd.to_numeric(co2_raw['2019 [YR2019]'], errors='coerce')\n",
    "co2_raw['2020 [YR2020]'] = pd.to_numeric(co2_raw['2020 [YR2020]'], errors='coerce')\n"
   ]
  },
  {
   "cell_type": "code",
   "execution_count": 6,
   "metadata": {},
   "outputs": [],
   "source": [
    "# Renombrado de columnas\n",
    "\n",
    "co2_raw = co2_raw.rename(columns={'1960 [YR1960]':'1960',\n",
    "                        '1961 [YR1961]':'1961',\n",
    "                        '1962 [YR1962]':'1962',\n",
    "                        '1963 [YR1963]':'1963',\n",
    "                        '1964 [YR1964]':'1964',\n",
    "                        '1965 [YR1965]':'1965',\n",
    "                        '1966 [YR1966]':'1966',\n",
    "                        '1967 [YR1967]':'1967',\n",
    "                        '1968 [YR1968]':'1968',\n",
    "                        '1969 [YR1969]':'1969',\n",
    "                        '1970 [YR1970]':'1970',\n",
    "                        '1971 [YR1971]':'1971',\n",
    "                        '1972 [YR1972]':'1972',\n",
    "                        '1973 [YR1973]':'1973',\n",
    "                        '1974 [YR1974]':'1974',\n",
    "                        '1975 [YR1975]':'1975',\n",
    "                        '1976 [YR1976]':'1976',\n",
    "                        '1977 [YR1977]':'1977',\n",
    "                        '1978 [YR1978]':'1978',\n",
    "                        '1979 [YR1979]':'1979',\n",
    "                        '1980 [YR1980]':'1980',\n",
    "                        '1981 [YR1981]':'1981',\n",
    "                        '1982 [YR1982]':'1982',\n",
    "                        '1983 [YR1983]':'1983',\n",
    "                        '1984 [YR1984]':'1984',\n",
    "                        '1985 [YR1985]':'1985',\n",
    "                        '1986 [YR1986]':'1986',\n",
    "                        '1987 [YR1987]':'1987',\n",
    "                        '1988 [YR1988]':'1988',\n",
    "                        '1989 [YR1989]':'1989',\n",
    "                        '1990 [YR1990]':'1990',\n",
    "                        '1991 [YR1991]':'1991',\n",
    "                        '1992 [YR1992]':'1992',\n",
    "                        '1993 [YR1993]':'1993',\n",
    "                        '1994 [YR1994]':'1994',\n",
    "                        '1995 [YR1995]':'1995',\n",
    "                        '1996 [YR1996]':'1996',\n",
    "                        '1997 [YR1997]':'1997',\n",
    "                        '1998 [YR1998]':'1998',\n",
    "                        '1999 [YR1999]':'1999',\n",
    "                        '2000 [YR2000]':'2000',\n",
    "                        '2001 [YR2001]':'2001',\n",
    "                        '2002 [YR2002]':'2002',\n",
    "                        '2003 [YR2003]':'2003',\n",
    "                        '2004 [YR2004]':'2004',\n",
    "                        '2005 [YR2005]':'2005',\n",
    "                        '2006 [YR2006]':'2006',\n",
    "                        '2007 [YR2007]':'2007',\n",
    "                        '2008 [YR2008]':'2008',\n",
    "                        '2009 [YR2009]':'2009',\n",
    "                        '2010 [YR2010]':'2010',\n",
    "                        '2011 [YR2011]':'2011',\n",
    "                        '2012 [YR2012]':'2012',\n",
    "                        '2013 [YR2013]':'2013',\n",
    "                        '2014 [YR2014]':'2014',\n",
    "                        '2015 [YR2015]':'2015',\n",
    "                        '2016 [YR2016]':'2016',\n",
    "                        '2017 [YR2017]':'2017',\n",
    "                        '2018 [YR2018]':'2018',\n",
    "                        '2019 [YR2019]':'2019',\n",
    "                        '2020 [YR2020]':'2020'})"
   ]
  },
  {
   "cell_type": "code",
   "execution_count": 7,
   "metadata": {},
   "outputs": [],
   "source": [
    "# Eliminando columnas sin datos\n",
    "\n",
    "co2_raw = co2_raw.drop('2021 [YR2021]', axis=1)\n",
    "co2_raw = co2_raw.drop('2022 [YR2022]', axis=1)"
   ]
  },
  {
   "cell_type": "code",
   "execution_count": 8,
   "metadata": {},
   "outputs": [
    {
     "name": "stdout",
     "output_type": "stream",
     "text": [
      "<class 'pandas.core.frame.DataFrame'>\n",
      "RangeIndex: 8251 entries, 0 to 8250\n",
      "Data columns (total 65 columns):\n",
      " #   Column        Non-Null Count  Dtype  \n",
      "---  ------        --------------  -----  \n",
      " 0   Country Name  8248 non-null   object \n",
      " 1   Country Code  8246 non-null   object \n",
      " 2   Series Name   8246 non-null   object \n",
      " 3   Series Code   8246 non-null   object \n",
      " 4   1960          1305 non-null   float64\n",
      " 5   1961          1314 non-null   float64\n",
      " 6   1962          1328 non-null   float64\n",
      " 7   1963          1339 non-null   float64\n",
      " 8   1964          1376 non-null   float64\n",
      " 9   1965          1382 non-null   float64\n",
      " 10  1966          1382 non-null   float64\n",
      " 11  1967          1382 non-null   float64\n",
      " 12  1968          1382 non-null   float64\n",
      " 13  1969          1382 non-null   float64\n",
      " 14  1970          1951 non-null   float64\n",
      " 15  1971          2627 non-null   float64\n",
      " 16  1972          2636 non-null   float64\n",
      " 17  1973          2636 non-null   float64\n",
      " 18  1974          2636 non-null   float64\n",
      " 19  1975          2635 non-null   float64\n",
      " 20  1976          2638 non-null   float64\n",
      " 21  1977          2643 non-null   float64\n",
      " 22  1978          2643 non-null   float64\n",
      " 23  1979          2644 non-null   float64\n",
      " 24  1980          2663 non-null   float64\n",
      " 25  1981          2674 non-null   float64\n",
      " 26  1982          2676 non-null   float64\n",
      " 27  1983          2676 non-null   float64\n",
      " 28  1984          2677 non-null   float64\n",
      " 29  1985          2682 non-null   float64\n",
      " 30  1986          2689 non-null   float64\n",
      " 31  1987          2689 non-null   float64\n",
      " 32  1988          2690 non-null   float64\n",
      " 33  1989          2693 non-null   float64\n",
      " 34  1990          6172 non-null   float64\n",
      " 35  1991          5778 non-null   float64\n",
      " 36  1992          5948 non-null   float64\n",
      " 37  1993          5960 non-null   float64\n",
      " 38  1994          6024 non-null   float64\n",
      " 39  1995          6026 non-null   float64\n",
      " 40  1996          6019 non-null   float64\n",
      " 41  1997          6025 non-null   float64\n",
      " 42  1998          6027 non-null   float64\n",
      " 43  1999          6027 non-null   float64\n",
      " 44  2000          6489 non-null   float64\n",
      " 45  2001          6074 non-null   float64\n",
      " 46  2002          6089 non-null   float64\n",
      " 47  2003          6091 non-null   float64\n",
      " 48  2004          6125 non-null   float64\n",
      " 49  2005          6546 non-null   float64\n",
      " 50  2006          6144 non-null   float64\n",
      " 51  2007          6150 non-null   float64\n",
      " 52  2008          6529 non-null   float64\n",
      " 53  2009          6125 non-null   float64\n",
      " 54  2010          6511 non-null   float64\n",
      " 55  2011          6087 non-null   float64\n",
      " 56  2012          6103 non-null   float64\n",
      " 57  2013          6106 non-null   float64\n",
      " 58  2014          6100 non-null   float64\n",
      " 59  2015          5020 non-null   float64\n",
      " 60  2016          4957 non-null   float64\n",
      " 61  2017          3283 non-null   float64\n",
      " 62  2018          3283 non-null   float64\n",
      " 63  2019          3279 non-null   float64\n",
      " 64  2020          3273 non-null   float64\n",
      "dtypes: float64(61), object(4)\n",
      "memory usage: 4.1+ MB\n"
     ]
    }
   ],
   "source": [
    "co2_raw.info()"
   ]
  },
  {
   "cell_type": "code",
   "execution_count": 9,
   "metadata": {},
   "outputs": [],
   "source": [
    "# Filtrado por serie: CO2 emissions (kt)\n",
    "\n",
    "valor_a_filtrar = 'CO2 emissions (kt)'\n",
    "filtro = co2_raw['Series Name'] == valor_a_filtrar\n",
    "\n",
    "co2_emissions_df = co2_raw[filtro]"
   ]
  },
  {
   "cell_type": "code",
   "execution_count": 10,
   "metadata": {},
   "outputs": [
    {
     "name": "stdout",
     "output_type": "stream",
     "text": [
      "                                    Country Name Country Code  \\\n",
      "7                                    Afghanistan          AFG   \n",
      "38                                       Albania          ALB   \n",
      "69                                       Algeria          DZA   \n",
      "100                               American Samoa          ASM   \n",
      "131                                      Andorra          AND   \n",
      "...                                          ...          ...   \n",
      "8098                          Sub-Saharan Africa          SSF   \n",
      "8129  Sub-Saharan Africa (excluding high income)          SSA   \n",
      "8160   Sub-Saharan Africa (IDA & IBRD countries)          TSS   \n",
      "8191                         Upper middle income          UMC   \n",
      "8222                                       World          WLD   \n",
      "\n",
      "             Series Name     Series Code  1960  1961  1962  1963  1964  1965  \\\n",
      "7     CO2 emissions (kt)  EN.ATM.CO2E.KT   NaN   NaN   NaN   NaN   NaN   NaN   \n",
      "38    CO2 emissions (kt)  EN.ATM.CO2E.KT   NaN   NaN   NaN   NaN   NaN   NaN   \n",
      "69    CO2 emissions (kt)  EN.ATM.CO2E.KT   NaN   NaN   NaN   NaN   NaN   NaN   \n",
      "100   CO2 emissions (kt)  EN.ATM.CO2E.KT   NaN   NaN   NaN   NaN   NaN   NaN   \n",
      "131   CO2 emissions (kt)  EN.ATM.CO2E.KT   NaN   NaN   NaN   NaN   NaN   NaN   \n",
      "...                  ...             ...   ...   ...   ...   ...   ...   ...   \n",
      "8098  CO2 emissions (kt)  EN.ATM.CO2E.KT   NaN   NaN   NaN   NaN   NaN   NaN   \n",
      "8129  CO2 emissions (kt)  EN.ATM.CO2E.KT   NaN   NaN   NaN   NaN   NaN   NaN   \n",
      "8160  CO2 emissions (kt)  EN.ATM.CO2E.KT   NaN   NaN   NaN   NaN   NaN   NaN   \n",
      "8191  CO2 emissions (kt)  EN.ATM.CO2E.KT   NaN   NaN   NaN   NaN   NaN   NaN   \n",
      "8222  CO2 emissions (kt)  EN.ATM.CO2E.KT   NaN   NaN   NaN   NaN   NaN   NaN   \n",
      "\n",
      "      ...        2011        2012        2013        2014        2015  \\\n",
      "7     ...    11961.89    10208.13     9402.05     9281.34    10057.59   \n",
      "38    ...     5136.70     4541.80     4795.40     5188.00     4797.00   \n",
      "69    ...   120784.90   134934.20   139024.10   147735.20   156273.00   \n",
      "100   ...         NaN         NaN         NaN         NaN         NaN   \n",
      "131   ...      490.98      487.31      476.32      461.66      465.33   \n",
      "...   ...         ...         ...         ...         ...         ...   \n",
      "8098  ...   690836.38   717126.54   755034.18   788024.60   770629.63   \n",
      "8129  ...   690428.18   716702.83   754621.98   787567.90   770129.83   \n",
      "8160  ...   690836.38   717126.54   755034.18   788024.60   770629.63   \n",
      "8191  ... 14683619.21 15046424.84 15496037.52 15550983.46 15348154.71   \n",
      "8222  ... 33079721.35 33460087.50 34119894.39 34261369.66 34070176.85   \n",
      "\n",
      "            2016        2017        2018        2019        2020  \n",
      "7        9294.93    10022.78    10972.38    11238.83     8709.47  \n",
      "38       4573.20     5403.70     5316.10     4993.30     4383.20  \n",
      "69     154654.30   157704.40   164534.10   170582.40   161563.00  \n",
      "100          NaN         NaN         NaN         NaN         NaN  \n",
      "131       468.99      465.33      494.64      479.98      448.88  \n",
      "...          ...         ...         ...         ...         ...  \n",
      "8098   781618.46   791456.38   809339.85   833713.85   760868.11  \n",
      "8129   781052.86   790885.68   808737.55   833118.55   760269.41  \n",
      "8160   781618.46   791456.38   809339.85   833713.85   760868.11  \n",
      "8191 15332252.10 15680729.34 16265198.32 16546520.02 16383995.51  \n",
      "8222 34145652.30 34687837.09 35560555.79 35477245.40 33566427.59  \n",
      "\n",
      "[266 rows x 65 columns]\n"
     ]
    }
   ],
   "source": [
    "print(co2_emissions_df)"
   ]
  },
  {
   "cell_type": "code",
   "execution_count": 11,
   "metadata": {},
   "outputs": [],
   "source": [
    "# Eliminamos los años entre 1960-1989 porque no registran datos.\n",
    "\n",
    "co2_emissions_df = co2_emissions_df.drop(['1960',\n",
    "                                          '1961',\n",
    "                                          '1962',\n",
    "                                          '1963',\n",
    "                                          '1964',\n",
    "                                          '1965',\n",
    "                                          '1966',\n",
    "                                          '1967',\n",
    "                                          '1968',\n",
    "                                          '1969',\n",
    "                                          '1970',\n",
    "                                          '1971',\n",
    "                                          '1972',\n",
    "                                          '1973',\n",
    "                                          '1974',\n",
    "                                          '1975',\n",
    "                                          '1976',\n",
    "                                          '1977',\n",
    "                                          '1978',\n",
    "                                          '1979',\n",
    "                                          '1980',\n",
    "                                          '1981',\n",
    "                                          '1982',\n",
    "                                          '1983',\n",
    "                                          '1984',\n",
    "                                          '1985',\n",
    "                                          '1986',\n",
    "                                          '1987',\n",
    "                                          '1988',\n",
    "                                          '1989'], axis=1)"
   ]
  },
  {
   "cell_type": "code",
   "execution_count": 12,
   "metadata": {},
   "outputs": [],
   "source": [
    "# Reemplazamos NANs por ceros y redondeamos al segundo decimal\n",
    "\n",
    "co2_emissions_df = co2_emissions_df.fillna(0)\n",
    "co2_emissions_df = co2_emissions_df.round(2)"
   ]
  },
  {
   "cell_type": "markdown",
   "metadata": {},
   "source": [
    "### Set de datos PBI (GDP)"
   ]
  },
  {
   "cell_type": "code",
   "execution_count": 13,
   "metadata": {},
   "outputs": [],
   "source": [
    "# Lectura de archivo\n",
    "\n",
    "gdp_raw = pd.read_csv(\"gdp.csv\")"
   ]
  },
  {
   "cell_type": "code",
   "execution_count": 14,
   "metadata": {},
   "outputs": [],
   "source": [
    "# Eliminación de columna 'Unnamed: 65'\n",
    "\n",
    "gdp_raw = gdp_raw.drop('Unnamed: 65', axis=1)"
   ]
  },
  {
   "cell_type": "code",
   "execution_count": 15,
   "metadata": {},
   "outputs": [],
   "source": [
    "# Renombrado de columna 'Code' a 'Country Code' para que coincida con el dataframe anterior.\n",
    "\n",
    "gdp_raw = gdp_raw.rename(columns={'Code':'Country Code'})"
   ]
  },
  {
   "cell_type": "code",
   "execution_count": 16,
   "metadata": {},
   "outputs": [],
   "source": [
    "# Eliminamos los años 1960-1989 para que coincida con el dataframe de CO2\n",
    "\n",
    "gdp_df = gdp_raw.drop(['1960',\n",
    "                                          '1961',\n",
    "                                          '1962',\n",
    "                                          '1963',\n",
    "                                          '1964',\n",
    "                                          '1965',\n",
    "                                          '1966',\n",
    "                                          '1967',\n",
    "                                          '1968',\n",
    "                                          '1969',\n",
    "                                          '1970',\n",
    "                                          '1971',\n",
    "                                          '1972',\n",
    "                                          '1973',\n",
    "                                          '1974',\n",
    "                                          '1975',\n",
    "                                          '1976',\n",
    "                                          '1977',\n",
    "                                          '1978',\n",
    "                                          '1979',\n",
    "                                          '1980',\n",
    "                                          '1981',\n",
    "                                          '1982',\n",
    "                                          '1983',\n",
    "                                          '1984',\n",
    "                                          '1985',\n",
    "                                          '1986',\n",
    "                                          '1987',\n",
    "                                          '1988',\n",
    "                                          '1989'], axis=1)"
   ]
  },
  {
   "cell_type": "code",
   "execution_count": 17,
   "metadata": {},
   "outputs": [],
   "source": [
    "## Reemplazamos NANs por ceros y redondeamos al segundo decimal\n",
    "\n",
    "gdp_df = gdp_df.fillna(0)\n",
    "gdp_df = gdp_df.round(2)"
   ]
  },
  {
   "cell_type": "code",
   "execution_count": 20,
   "metadata": {},
   "outputs": [],
   "source": [
    "# Generamos una nueva columna con un código identificador ***GDP\n",
    "\n",
    "gdp_df['GDP Code'] = gdp_df['Country Code'].apply(lambda x: x + 'GDP')"
   ]
  }
 ],
 "metadata": {
  "kernelspec": {
   "display_name": "base",
   "language": "python",
   "name": "python3"
  },
  "language_info": {
   "codemirror_mode": {
    "name": "ipython",
    "version": 3
   },
   "file_extension": ".py",
   "mimetype": "text/x-python",
   "name": "python",
   "nbconvert_exporter": "python",
   "pygments_lexer": "ipython3",
   "version": "3.11.3"
  },
  "orig_nbformat": 4
 },
 "nbformat": 4,
 "nbformat_minor": 2
}
