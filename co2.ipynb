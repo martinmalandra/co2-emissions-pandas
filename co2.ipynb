{
 "cells": [
  {
   "cell_type": "markdown",
   "metadata": {},
   "source": [
    "# Análisis Exploratorio De Datos Con Pandas: Emisiones Globales De CO2 y su Relación con el PBI"
   ]
  },
  {
   "cell_type": "markdown",
   "metadata": {},
   "source": [
    "El objetivo del presente proyecto es responder a las siguientes preguntas:\n",
    "\n",
    "* ¿Cuáles son los países que registran mayores emisiones?\n",
    "* ¿Qué correlación existe entre PBI y emisiones de CO2?"
   ]
  },
  {
   "cell_type": "code",
   "execution_count": 2,
   "metadata": {},
   "outputs": [],
   "source": [
    "# Preparación de entorno\n",
    "\n",
    "import pandas as pd\n",
    "import numpy as np\n",
    "import matplotlib.pyplot as plt\n",
    "import seaborn as sns"
   ]
  },
  {
   "cell_type": "code",
   "execution_count": 3,
   "metadata": {},
   "outputs": [],
   "source": [
    "# Eliminando notación científica\n",
    "\n",
    "pd.set_option('display.float_format', '{:.2f}'.format)"
   ]
  },
  {
   "cell_type": "code",
   "execution_count": 4,
   "metadata": {},
   "outputs": [],
   "source": [
    "# Lectura de archivos\n",
    "\n",
    "co2_raw = pd.read_csv(\"co2.csv\", index_col = 'Country Name')"
   ]
  },
  {
   "cell_type": "code",
   "execution_count": 5,
   "metadata": {},
   "outputs": [
    {
     "data": {
      "text/plain": [
       "Index(['Country Code', 'Series Name', 'Series Code', '1960 [YR1960]',\n",
       "       '1961 [YR1961]', '1962 [YR1962]', '1963 [YR1963]', '1964 [YR1964]',\n",
       "       '1965 [YR1965]', '1966 [YR1966]', '1967 [YR1967]', '1968 [YR1968]',\n",
       "       '1969 [YR1969]', '1970 [YR1970]', '1971 [YR1971]', '1972 [YR1972]',\n",
       "       '1973 [YR1973]', '1974 [YR1974]', '1975 [YR1975]', '1976 [YR1976]',\n",
       "       '1977 [YR1977]', '1978 [YR1978]', '1979 [YR1979]', '1980 [YR1980]',\n",
       "       '1981 [YR1981]', '1982 [YR1982]', '1983 [YR1983]', '1984 [YR1984]',\n",
       "       '1985 [YR1985]', '1986 [YR1986]', '1987 [YR1987]', '1988 [YR1988]',\n",
       "       '1989 [YR1989]', '1990 [YR1990]', '1991 [YR1991]', '1992 [YR1992]',\n",
       "       '1993 [YR1993]', '1994 [YR1994]', '1995 [YR1995]', '1996 [YR1996]',\n",
       "       '1997 [YR1997]', '1998 [YR1998]', '1999 [YR1999]', '2000 [YR2000]',\n",
       "       '2001 [YR2001]', '2002 [YR2002]', '2003 [YR2003]', '2004 [YR2004]',\n",
       "       '2005 [YR2005]', '2006 [YR2006]', '2007 [YR2007]', '2008 [YR2008]',\n",
       "       '2009 [YR2009]', '2010 [YR2010]', '2011 [YR2011]', '2012 [YR2012]',\n",
       "       '2013 [YR2013]', '2014 [YR2014]', '2015 [YR2015]', '2016 [YR2016]',\n",
       "       '2017 [YR2017]', '2018 [YR2018]', '2019 [YR2019]', '2020 [YR2020]',\n",
       "       '2021 [YR2021]', '2022 [YR2022]'],\n",
       "      dtype='object')"
      ]
     },
     "execution_count": 5,
     "metadata": {},
     "output_type": "execute_result"
    }
   ],
   "source": [
    "# Columnas\n",
    "\n",
    "co2_raw.columns"
   ]
  },
  {
   "cell_type": "code",
   "execution_count": 6,
   "metadata": {},
   "outputs": [],
   "source": [
    "# df['column_name'] = pd.to_numeric(df['column_name'], errors='coerce')\n",
    "\n",
    "co2_raw['1960 [YR1960]'] = pd.to_numeric(co2_raw['1960 [YR1960]'], errors='coerce') # errors coerce reemplaza los strings por NaN\n",
    "co2_raw['1961 [YR1961]'] = pd.to_numeric(co2_raw['1961 [YR1961]'], errors='coerce')\n",
    "co2_raw['1962 [YR1962]'] = pd.to_numeric(co2_raw['1962 [YR1962]'], errors='coerce')\n",
    "co2_raw['1963 [YR1963]'] = pd.to_numeric(co2_raw['1963 [YR1963]'], errors='coerce')\n",
    "co2_raw['1964 [YR1964]'] = pd.to_numeric(co2_raw['1964 [YR1964]'], errors='coerce')\n",
    "co2_raw['1965 [YR1965]'] = pd.to_numeric(co2_raw['1965 [YR1965]'], errors='coerce')\n",
    "co2_raw['1966 [YR1966]'] = pd.to_numeric(co2_raw['1966 [YR1966]'], errors='coerce')\n",
    "co2_raw['1967 [YR1967]'] = pd.to_numeric(co2_raw['1967 [YR1967]'], errors='coerce')\n",
    "co2_raw['1968 [YR1968]'] = pd.to_numeric(co2_raw['1968 [YR1968]'], errors='coerce')\n",
    "co2_raw['1969 [YR1969]'] = pd.to_numeric(co2_raw['1969 [YR1969]'], errors='coerce')\n",
    "co2_raw['1970 [YR1970]'] = pd.to_numeric(co2_raw['1970 [YR1970]'], errors='coerce')\n",
    "co2_raw['1971 [YR1971]'] = pd.to_numeric(co2_raw['1971 [YR1971]'], errors='coerce')\n",
    "co2_raw['1972 [YR1972]'] = pd.to_numeric(co2_raw['1972 [YR1972]'], errors='coerce')\n",
    "co2_raw['1973 [YR1973]'] = pd.to_numeric(co2_raw['1973 [YR1973]'], errors='coerce')\n",
    "co2_raw['1974 [YR1974]'] = pd.to_numeric(co2_raw['1974 [YR1974]'], errors='coerce')\n",
    "co2_raw['1975 [YR1975]'] = pd.to_numeric(co2_raw['1975 [YR1975]'], errors='coerce')\n",
    "co2_raw['1976 [YR1976]'] = pd.to_numeric(co2_raw['1976 [YR1976]'], errors='coerce')\n",
    "co2_raw['1977 [YR1977]'] = pd.to_numeric(co2_raw['1977 [YR1977]'], errors='coerce')\n",
    "co2_raw['1978 [YR1978]'] = pd.to_numeric(co2_raw['1978 [YR1978]'], errors='coerce')\n",
    "co2_raw['1979 [YR1979]'] = pd.to_numeric(co2_raw['1979 [YR1979]'], errors='coerce')\n",
    "co2_raw['1980 [YR1980]'] = pd.to_numeric(co2_raw['1980 [YR1980]'], errors='coerce')\n",
    "co2_raw['1981 [YR1981]'] = pd.to_numeric(co2_raw['1981 [YR1981]'], errors='coerce')\n",
    "co2_raw['1982 [YR1982]'] = pd.to_numeric(co2_raw['1982 [YR1982]'], errors='coerce')\n",
    "co2_raw['1983 [YR1983]'] = pd.to_numeric(co2_raw['1983 [YR1983]'], errors='coerce')\n",
    "co2_raw['1984 [YR1984]'] = pd.to_numeric(co2_raw['1984 [YR1984]'], errors='coerce')\n",
    "co2_raw['1985 [YR1985]'] = pd.to_numeric(co2_raw['1985 [YR1985]'], errors='coerce')\n",
    "co2_raw['1986 [YR1986]'] = pd.to_numeric(co2_raw['1986 [YR1986]'], errors='coerce')\n",
    "co2_raw['1987 [YR1987]'] = pd.to_numeric(co2_raw['1987 [YR1987]'], errors='coerce')\n",
    "co2_raw['1988 [YR1988]'] = pd.to_numeric(co2_raw['1988 [YR1988]'], errors='coerce')\n",
    "co2_raw['1989 [YR1989]'] = pd.to_numeric(co2_raw['1989 [YR1989]'], errors='coerce')\n",
    "co2_raw['1990 [YR1990]'] = pd.to_numeric(co2_raw['1990 [YR1990]'], errors='coerce')\n",
    "co2_raw['1991 [YR1991]'] = pd.to_numeric(co2_raw['1991 [YR1991]'], errors='coerce')\n",
    "co2_raw['1992 [YR1992]'] = pd.to_numeric(co2_raw['1992 [YR1992]'], errors='coerce')\n",
    "co2_raw['1993 [YR1993]'] = pd.to_numeric(co2_raw['1993 [YR1993]'], errors='coerce')\n",
    "co2_raw['1994 [YR1994]'] = pd.to_numeric(co2_raw['1994 [YR1994]'], errors='coerce')\n",
    "co2_raw['1995 [YR1995]'] = pd.to_numeric(co2_raw['1995 [YR1995]'], errors='coerce')\n",
    "co2_raw['1996 [YR1996]'] = pd.to_numeric(co2_raw['1996 [YR1996]'], errors='coerce')\n",
    "co2_raw['1997 [YR1997]'] = pd.to_numeric(co2_raw['1997 [YR1997]'], errors='coerce')\n",
    "co2_raw['1998 [YR1998]'] = pd.to_numeric(co2_raw['1998 [YR1998]'], errors='coerce')\n",
    "co2_raw['1999 [YR1999]'] = pd.to_numeric(co2_raw['1999 [YR1999]'], errors='coerce')\n",
    "co2_raw['2000 [YR2000]'] = pd.to_numeric(co2_raw['2000 [YR2000]'], errors='coerce')\n",
    "co2_raw['2001 [YR2001]'] = pd.to_numeric(co2_raw['2001 [YR2001]'], errors='coerce')\n",
    "co2_raw['2002 [YR2002]'] = pd.to_numeric(co2_raw['2002 [YR2002]'], errors='coerce')\n",
    "co2_raw['2003 [YR2003]'] = pd.to_numeric(co2_raw['2003 [YR2003]'], errors='coerce')\n",
    "co2_raw['2004 [YR2004]'] = pd.to_numeric(co2_raw['2004 [YR2004]'], errors='coerce')\n",
    "co2_raw['2005 [YR2005]'] = pd.to_numeric(co2_raw['2005 [YR2005]'], errors='coerce')\n",
    "co2_raw['2006 [YR2006]'] = pd.to_numeric(co2_raw['2006 [YR2006]'], errors='coerce')\n",
    "co2_raw['2007 [YR2007]'] = pd.to_numeric(co2_raw['2007 [YR2007]'], errors='coerce')\n",
    "co2_raw['2008 [YR2008]'] = pd.to_numeric(co2_raw['2008 [YR2008]'], errors='coerce')\n",
    "co2_raw['2009 [YR2009]'] = pd.to_numeric(co2_raw['2009 [YR2009]'], errors='coerce')\n",
    "co2_raw['2010 [YR2010]'] = pd.to_numeric(co2_raw['2010 [YR2010]'], errors='coerce')\n",
    "co2_raw['2011 [YR2011]'] = pd.to_numeric(co2_raw['2011 [YR2011]'], errors='coerce')\n",
    "co2_raw['2012 [YR2012]'] = pd.to_numeric(co2_raw['2012 [YR2012]'], errors='coerce')\n",
    "co2_raw['2013 [YR2013]'] = pd.to_numeric(co2_raw['2013 [YR2013]'], errors='coerce')\n",
    "co2_raw['2014 [YR2014]'] = pd.to_numeric(co2_raw['2014 [YR2014]'], errors='coerce')\n",
    "co2_raw['2015 [YR2015]'] = pd.to_numeric(co2_raw['2015 [YR2015]'], errors='coerce')\n",
    "co2_raw['2016 [YR2016]'] = pd.to_numeric(co2_raw['2016 [YR2016]'], errors='coerce')\n",
    "co2_raw['2017 [YR2017]'] = pd.to_numeric(co2_raw['2017 [YR2017]'], errors='coerce')\n",
    "co2_raw['2018 [YR2018]'] = pd.to_numeric(co2_raw['2018 [YR2018]'], errors='coerce')\n",
    "co2_raw['2019 [YR2019]'] = pd.to_numeric(co2_raw['2019 [YR2019]'], errors='coerce')\n",
    "co2_raw['2020 [YR2020]'] = pd.to_numeric(co2_raw['2020 [YR2020]'], errors='coerce')\n"
   ]
  },
  {
   "cell_type": "code",
   "execution_count": 7,
   "metadata": {},
   "outputs": [],
   "source": [
    "# df = df.drop('columna1', axis=1)\n",
    "\n",
    "co2_raw = co2_raw.drop('2021 [YR2021]', axis=1)\n",
    "co2_raw = co2_raw.drop('2022 [YR2022]', axis=1)"
   ]
  },
  {
   "cell_type": "code",
   "execution_count": 8,
   "metadata": {},
   "outputs": [
    {
     "name": "stdout",
     "output_type": "stream",
     "text": [
      "<class 'pandas.core.frame.DataFrame'>\n",
      "Index: 8251 entries, Afghanistan to Last Updated: 06/29/2023\n",
      "Data columns (total 64 columns):\n",
      " #   Column         Non-Null Count  Dtype  \n",
      "---  ------         --------------  -----  \n",
      " 0   Country Code   8246 non-null   object \n",
      " 1   Series Name    8246 non-null   object \n",
      " 2   Series Code    8246 non-null   object \n",
      " 3   1960 [YR1960]  1305 non-null   float64\n",
      " 4   1961 [YR1961]  1314 non-null   float64\n",
      " 5   1962 [YR1962]  1328 non-null   float64\n",
      " 6   1963 [YR1963]  1339 non-null   float64\n",
      " 7   1964 [YR1964]  1376 non-null   float64\n",
      " 8   1965 [YR1965]  1382 non-null   float64\n",
      " 9   1966 [YR1966]  1382 non-null   float64\n",
      " 10  1967 [YR1967]  1382 non-null   float64\n",
      " 11  1968 [YR1968]  1382 non-null   float64\n",
      " 12  1969 [YR1969]  1382 non-null   float64\n",
      " 13  1970 [YR1970]  1951 non-null   float64\n",
      " 14  1971 [YR1971]  2627 non-null   float64\n",
      " 15  1972 [YR1972]  2636 non-null   float64\n",
      " 16  1973 [YR1973]  2636 non-null   float64\n",
      " 17  1974 [YR1974]  2636 non-null   float64\n",
      " 18  1975 [YR1975]  2635 non-null   float64\n",
      " 19  1976 [YR1976]  2638 non-null   float64\n",
      " 20  1977 [YR1977]  2643 non-null   float64\n",
      " 21  1978 [YR1978]  2643 non-null   float64\n",
      " 22  1979 [YR1979]  2644 non-null   float64\n",
      " 23  1980 [YR1980]  2663 non-null   float64\n",
      " 24  1981 [YR1981]  2674 non-null   float64\n",
      " 25  1982 [YR1982]  2676 non-null   float64\n",
      " 26  1983 [YR1983]  2676 non-null   float64\n",
      " 27  1984 [YR1984]  2677 non-null   float64\n",
      " 28  1985 [YR1985]  2682 non-null   float64\n",
      " 29  1986 [YR1986]  2689 non-null   float64\n",
      " 30  1987 [YR1987]  2689 non-null   float64\n",
      " 31  1988 [YR1988]  2690 non-null   float64\n",
      " 32  1989 [YR1989]  2693 non-null   float64\n",
      " 33  1990 [YR1990]  6172 non-null   float64\n",
      " 34  1991 [YR1991]  5778 non-null   float64\n",
      " 35  1992 [YR1992]  5948 non-null   float64\n",
      " 36  1993 [YR1993]  5960 non-null   float64\n",
      " 37  1994 [YR1994]  6024 non-null   float64\n",
      " 38  1995 [YR1995]  6026 non-null   float64\n",
      " 39  1996 [YR1996]  6019 non-null   float64\n",
      " 40  1997 [YR1997]  6025 non-null   float64\n",
      " 41  1998 [YR1998]  6027 non-null   float64\n",
      " 42  1999 [YR1999]  6027 non-null   float64\n",
      " 43  2000 [YR2000]  6489 non-null   float64\n",
      " 44  2001 [YR2001]  6074 non-null   float64\n",
      " 45  2002 [YR2002]  6089 non-null   float64\n",
      " 46  2003 [YR2003]  6091 non-null   float64\n",
      " 47  2004 [YR2004]  6125 non-null   float64\n",
      " 48  2005 [YR2005]  6546 non-null   float64\n",
      " 49  2006 [YR2006]  6144 non-null   float64\n",
      " 50  2007 [YR2007]  6150 non-null   float64\n",
      " 51  2008 [YR2008]  6529 non-null   float64\n",
      " 52  2009 [YR2009]  6125 non-null   float64\n",
      " 53  2010 [YR2010]  6511 non-null   float64\n",
      " 54  2011 [YR2011]  6087 non-null   float64\n",
      " 55  2012 [YR2012]  6103 non-null   float64\n",
      " 56  2013 [YR2013]  6106 non-null   float64\n",
      " 57  2014 [YR2014]  6100 non-null   float64\n",
      " 58  2015 [YR2015]  5020 non-null   float64\n",
      " 59  2016 [YR2016]  4957 non-null   float64\n",
      " 60  2017 [YR2017]  3283 non-null   float64\n",
      " 61  2018 [YR2018]  3283 non-null   float64\n",
      " 62  2019 [YR2019]  3279 non-null   float64\n",
      " 63  2020 [YR2020]  3273 non-null   float64\n",
      "dtypes: float64(61), object(3)\n",
      "memory usage: 4.1+ MB\n"
     ]
    }
   ],
   "source": [
    "co2_raw.info()"
   ]
  }
 ],
 "metadata": {
  "kernelspec": {
   "display_name": "base",
   "language": "python",
   "name": "python3"
  },
  "language_info": {
   "codemirror_mode": {
    "name": "ipython",
    "version": 3
   },
   "file_extension": ".py",
   "mimetype": "text/x-python",
   "name": "python",
   "nbconvert_exporter": "python",
   "pygments_lexer": "ipython3",
   "version": "3.11.3"
  },
  "orig_nbformat": 4
 },
 "nbformat": 4,
 "nbformat_minor": 2
}
