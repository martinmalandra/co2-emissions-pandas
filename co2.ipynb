{
 "cells": [
  {
   "cell_type": "markdown",
   "metadata": {},
   "source": [
    "# Análisis Exploratorio De Datos Con Pandas: Emisiones Globales De CO2 y su Relación con el PBI"
   ]
  },
  {
   "cell_type": "markdown",
   "metadata": {},
   "source": [
    "El objetivo del presente proyecto es responder a las siguientes preguntas:\n",
    "\n",
    "* ¿Cuáles son los países que registran mayores emisiones?\n",
    "* ¿Qué correlación existe entre PBI y emisiones de CO2?"
   ]
  },
  {
   "cell_type": "code",
   "execution_count": 1,
   "metadata": {},
   "outputs": [],
   "source": [
    "# Preparación de entorno\n",
    "\n",
    "import pandas as pd\n",
    "import numpy as np\n",
    "import matplotlib.pyplot as plt\n",
    "import seaborn as sns"
   ]
  },
  {
   "cell_type": "code",
   "execution_count": 2,
   "metadata": {},
   "outputs": [],
   "source": [
    "# Eliminando notación científica\n",
    "\n",
    "pd.set_option('display.float_format', '{:.2f}'.format)"
   ]
  },
  {
   "cell_type": "markdown",
   "metadata": {},
   "source": [
    "### Set de datos CO2"
   ]
  },
  {
   "cell_type": "code",
   "execution_count": 3,
   "metadata": {},
   "outputs": [],
   "source": [
    "# Lectura de archivo\n",
    "\n",
    "co2_raw = pd.read_csv(\"co2.csv\")"
   ]
  },
  {
   "cell_type": "code",
   "execution_count": 4,
   "metadata": {},
   "outputs": [
    {
     "data": {
      "text/plain": [
       "Index(['Country Name', 'Country Code', 'Series Name', 'Series Code',\n",
       "       '1960 [YR1960]', '1961 [YR1961]', '1962 [YR1962]', '1963 [YR1963]',\n",
       "       '1964 [YR1964]', '1965 [YR1965]', '1966 [YR1966]', '1967 [YR1967]',\n",
       "       '1968 [YR1968]', '1969 [YR1969]', '1970 [YR1970]', '1971 [YR1971]',\n",
       "       '1972 [YR1972]', '1973 [YR1973]', '1974 [YR1974]', '1975 [YR1975]',\n",
       "       '1976 [YR1976]', '1977 [YR1977]', '1978 [YR1978]', '1979 [YR1979]',\n",
       "       '1980 [YR1980]', '1981 [YR1981]', '1982 [YR1982]', '1983 [YR1983]',\n",
       "       '1984 [YR1984]', '1985 [YR1985]', '1986 [YR1986]', '1987 [YR1987]',\n",
       "       '1988 [YR1988]', '1989 [YR1989]', '1990 [YR1990]', '1991 [YR1991]',\n",
       "       '1992 [YR1992]', '1993 [YR1993]', '1994 [YR1994]', '1995 [YR1995]',\n",
       "       '1996 [YR1996]', '1997 [YR1997]', '1998 [YR1998]', '1999 [YR1999]',\n",
       "       '2000 [YR2000]', '2001 [YR2001]', '2002 [YR2002]', '2003 [YR2003]',\n",
       "       '2004 [YR2004]', '2005 [YR2005]', '2006 [YR2006]', '2007 [YR2007]',\n",
       "       '2008 [YR2008]', '2009 [YR2009]', '2010 [YR2010]', '2011 [YR2011]',\n",
       "       '2012 [YR2012]', '2013 [YR2013]', '2014 [YR2014]', '2015 [YR2015]',\n",
       "       '2016 [YR2016]', '2017 [YR2017]', '2018 [YR2018]', '2019 [YR2019]',\n",
       "       '2020 [YR2020]', '2021 [YR2021]', '2022 [YR2022]'],\n",
       "      dtype='object')"
      ]
     },
     "execution_count": 4,
     "metadata": {},
     "output_type": "execute_result"
    }
   ],
   "source": [
    "# Columnas\n",
    "\n",
    "co2_raw.columns"
   ]
  },
  {
   "cell_type": "code",
   "execution_count": 5,
   "metadata": {},
   "outputs": [],
   "source": [
    "# df['column_name'] = pd.to_numeric(df['column_name'], errors='coerce')\n",
    "\n",
    "co2_raw['1960 [YR1960]'] = pd.to_numeric(co2_raw['1960 [YR1960]'], errors='coerce') # errors coerce reemplaza los strings por NaN\n",
    "co2_raw['1961 [YR1961]'] = pd.to_numeric(co2_raw['1961 [YR1961]'], errors='coerce')\n",
    "co2_raw['1962 [YR1962]'] = pd.to_numeric(co2_raw['1962 [YR1962]'], errors='coerce')\n",
    "co2_raw['1963 [YR1963]'] = pd.to_numeric(co2_raw['1963 [YR1963]'], errors='coerce')\n",
    "co2_raw['1964 [YR1964]'] = pd.to_numeric(co2_raw['1964 [YR1964]'], errors='coerce')\n",
    "co2_raw['1965 [YR1965]'] = pd.to_numeric(co2_raw['1965 [YR1965]'], errors='coerce')\n",
    "co2_raw['1966 [YR1966]'] = pd.to_numeric(co2_raw['1966 [YR1966]'], errors='coerce')\n",
    "co2_raw['1967 [YR1967]'] = pd.to_numeric(co2_raw['1967 [YR1967]'], errors='coerce')\n",
    "co2_raw['1968 [YR1968]'] = pd.to_numeric(co2_raw['1968 [YR1968]'], errors='coerce')\n",
    "co2_raw['1969 [YR1969]'] = pd.to_numeric(co2_raw['1969 [YR1969]'], errors='coerce')\n",
    "co2_raw['1970 [YR1970]'] = pd.to_numeric(co2_raw['1970 [YR1970]'], errors='coerce')\n",
    "co2_raw['1971 [YR1971]'] = pd.to_numeric(co2_raw['1971 [YR1971]'], errors='coerce')\n",
    "co2_raw['1972 [YR1972]'] = pd.to_numeric(co2_raw['1972 [YR1972]'], errors='coerce')\n",
    "co2_raw['1973 [YR1973]'] = pd.to_numeric(co2_raw['1973 [YR1973]'], errors='coerce')\n",
    "co2_raw['1974 [YR1974]'] = pd.to_numeric(co2_raw['1974 [YR1974]'], errors='coerce')\n",
    "co2_raw['1975 [YR1975]'] = pd.to_numeric(co2_raw['1975 [YR1975]'], errors='coerce')\n",
    "co2_raw['1976 [YR1976]'] = pd.to_numeric(co2_raw['1976 [YR1976]'], errors='coerce')\n",
    "co2_raw['1977 [YR1977]'] = pd.to_numeric(co2_raw['1977 [YR1977]'], errors='coerce')\n",
    "co2_raw['1978 [YR1978]'] = pd.to_numeric(co2_raw['1978 [YR1978]'], errors='coerce')\n",
    "co2_raw['1979 [YR1979]'] = pd.to_numeric(co2_raw['1979 [YR1979]'], errors='coerce')\n",
    "co2_raw['1980 [YR1980]'] = pd.to_numeric(co2_raw['1980 [YR1980]'], errors='coerce')\n",
    "co2_raw['1981 [YR1981]'] = pd.to_numeric(co2_raw['1981 [YR1981]'], errors='coerce')\n",
    "co2_raw['1982 [YR1982]'] = pd.to_numeric(co2_raw['1982 [YR1982]'], errors='coerce')\n",
    "co2_raw['1983 [YR1983]'] = pd.to_numeric(co2_raw['1983 [YR1983]'], errors='coerce')\n",
    "co2_raw['1984 [YR1984]'] = pd.to_numeric(co2_raw['1984 [YR1984]'], errors='coerce')\n",
    "co2_raw['1985 [YR1985]'] = pd.to_numeric(co2_raw['1985 [YR1985]'], errors='coerce')\n",
    "co2_raw['1986 [YR1986]'] = pd.to_numeric(co2_raw['1986 [YR1986]'], errors='coerce')\n",
    "co2_raw['1987 [YR1987]'] = pd.to_numeric(co2_raw['1987 [YR1987]'], errors='coerce')\n",
    "co2_raw['1988 [YR1988]'] = pd.to_numeric(co2_raw['1988 [YR1988]'], errors='coerce')\n",
    "co2_raw['1989 [YR1989]'] = pd.to_numeric(co2_raw['1989 [YR1989]'], errors='coerce')\n",
    "co2_raw['1990 [YR1990]'] = pd.to_numeric(co2_raw['1990 [YR1990]'], errors='coerce')\n",
    "co2_raw['1991 [YR1991]'] = pd.to_numeric(co2_raw['1991 [YR1991]'], errors='coerce')\n",
    "co2_raw['1992 [YR1992]'] = pd.to_numeric(co2_raw['1992 [YR1992]'], errors='coerce')\n",
    "co2_raw['1993 [YR1993]'] = pd.to_numeric(co2_raw['1993 [YR1993]'], errors='coerce')\n",
    "co2_raw['1994 [YR1994]'] = pd.to_numeric(co2_raw['1994 [YR1994]'], errors='coerce')\n",
    "co2_raw['1995 [YR1995]'] = pd.to_numeric(co2_raw['1995 [YR1995]'], errors='coerce')\n",
    "co2_raw['1996 [YR1996]'] = pd.to_numeric(co2_raw['1996 [YR1996]'], errors='coerce')\n",
    "co2_raw['1997 [YR1997]'] = pd.to_numeric(co2_raw['1997 [YR1997]'], errors='coerce')\n",
    "co2_raw['1998 [YR1998]'] = pd.to_numeric(co2_raw['1998 [YR1998]'], errors='coerce')\n",
    "co2_raw['1999 [YR1999]'] = pd.to_numeric(co2_raw['1999 [YR1999]'], errors='coerce')\n",
    "co2_raw['2000 [YR2000]'] = pd.to_numeric(co2_raw['2000 [YR2000]'], errors='coerce')\n",
    "co2_raw['2001 [YR2001]'] = pd.to_numeric(co2_raw['2001 [YR2001]'], errors='coerce')\n",
    "co2_raw['2002 [YR2002]'] = pd.to_numeric(co2_raw['2002 [YR2002]'], errors='coerce')\n",
    "co2_raw['2003 [YR2003]'] = pd.to_numeric(co2_raw['2003 [YR2003]'], errors='coerce')\n",
    "co2_raw['2004 [YR2004]'] = pd.to_numeric(co2_raw['2004 [YR2004]'], errors='coerce')\n",
    "co2_raw['2005 [YR2005]'] = pd.to_numeric(co2_raw['2005 [YR2005]'], errors='coerce')\n",
    "co2_raw['2006 [YR2006]'] = pd.to_numeric(co2_raw['2006 [YR2006]'], errors='coerce')\n",
    "co2_raw['2007 [YR2007]'] = pd.to_numeric(co2_raw['2007 [YR2007]'], errors='coerce')\n",
    "co2_raw['2008 [YR2008]'] = pd.to_numeric(co2_raw['2008 [YR2008]'], errors='coerce')\n",
    "co2_raw['2009 [YR2009]'] = pd.to_numeric(co2_raw['2009 [YR2009]'], errors='coerce')\n",
    "co2_raw['2010 [YR2010]'] = pd.to_numeric(co2_raw['2010 [YR2010]'], errors='coerce')\n",
    "co2_raw['2011 [YR2011]'] = pd.to_numeric(co2_raw['2011 [YR2011]'], errors='coerce')\n",
    "co2_raw['2012 [YR2012]'] = pd.to_numeric(co2_raw['2012 [YR2012]'], errors='coerce')\n",
    "co2_raw['2013 [YR2013]'] = pd.to_numeric(co2_raw['2013 [YR2013]'], errors='coerce')\n",
    "co2_raw['2014 [YR2014]'] = pd.to_numeric(co2_raw['2014 [YR2014]'], errors='coerce')\n",
    "co2_raw['2015 [YR2015]'] = pd.to_numeric(co2_raw['2015 [YR2015]'], errors='coerce')\n",
    "co2_raw['2016 [YR2016]'] = pd.to_numeric(co2_raw['2016 [YR2016]'], errors='coerce')\n",
    "co2_raw['2017 [YR2017]'] = pd.to_numeric(co2_raw['2017 [YR2017]'], errors='coerce')\n",
    "co2_raw['2018 [YR2018]'] = pd.to_numeric(co2_raw['2018 [YR2018]'], errors='coerce')\n",
    "co2_raw['2019 [YR2019]'] = pd.to_numeric(co2_raw['2019 [YR2019]'], errors='coerce')\n",
    "co2_raw['2020 [YR2020]'] = pd.to_numeric(co2_raw['2020 [YR2020]'], errors='coerce')\n"
   ]
  },
  {
   "cell_type": "code",
   "execution_count": 6,
   "metadata": {},
   "outputs": [],
   "source": [
    "# Renombrado de columnas\n",
    "\n",
    "co2_raw = co2_raw.rename(columns={'1960 [YR1960]':'CO2 1960',\n",
    "                        '1961 [YR1961]':'CO2 1961',\n",
    "                        '1962 [YR1962]':'CO2 1962',\n",
    "                        '1963 [YR1963]':'CO2 1963',\n",
    "                        '1964 [YR1964]':'CO2 1964',\n",
    "                        '1965 [YR1965]':'CO2 1965',\n",
    "                        '1966 [YR1966]':'CO2 1966',\n",
    "                        '1967 [YR1967]':'CO2 1967',\n",
    "                        '1968 [YR1968]':'CO2 1968',\n",
    "                        '1969 [YR1969]':'CO2 1969',\n",
    "                        '1970 [YR1970]':'CO2 1970',\n",
    "                        '1971 [YR1971]':'CO2 1971',\n",
    "                        '1972 [YR1972]':'CO2 1972',\n",
    "                        '1973 [YR1973]':'CO2 1973',\n",
    "                        '1974 [YR1974]':'CO2 1974',\n",
    "                        '1975 [YR1975]':'CO2 1975',\n",
    "                        '1976 [YR1976]':'CO2 1976',\n",
    "                        '1977 [YR1977]':'CO2 1977',\n",
    "                        '1978 [YR1978]':'CO2 1978',\n",
    "                        '1979 [YR1979]':'CO2 1979',\n",
    "                        '1980 [YR1980]':'CO2 1980',\n",
    "                        '1981 [YR1981]':'CO2 1981',\n",
    "                        '1982 [YR1982]':'CO2 1982',\n",
    "                        '1983 [YR1983]':'CO2 1983',\n",
    "                        '1984 [YR1984]':'CO2 1984',\n",
    "                        '1985 [YR1985]':'CO2 1985',\n",
    "                        '1986 [YR1986]':'CO2 1986',\n",
    "                        '1987 [YR1987]':'CO2 1987',\n",
    "                        '1988 [YR1988]':'CO2 1988',\n",
    "                        '1989 [YR1989]':'CO2 1989',\n",
    "                        '1990 [YR1990]':'CO2 1990',\n",
    "                        '1991 [YR1991]':'CO2 1991',\n",
    "                        '1992 [YR1992]':'CO2 1992',\n",
    "                        '1993 [YR1993]':'CO2 1993',\n",
    "                        '1994 [YR1994]':'CO2 1994',\n",
    "                        '1995 [YR1995]':'CO2 1995',\n",
    "                        '1996 [YR1996]':'CO2 1996',\n",
    "                        '1997 [YR1997]':'CO2 1997',\n",
    "                        '1998 [YR1998]':'CO2 1998',\n",
    "                        '1999 [YR1999]':'CO2 1999',\n",
    "                        '2000 [YR2000]':'CO2 2000',\n",
    "                        '2001 [YR2001]':'CO2 2001',\n",
    "                        '2002 [YR2002]':'CO2 2002',\n",
    "                        '2003 [YR2003]':'CO2 2003',\n",
    "                        '2004 [YR2004]':'CO2 2004',\n",
    "                        '2005 [YR2005]':'CO2 2005',\n",
    "                        '2006 [YR2006]':'CO2 2006',\n",
    "                        '2007 [YR2007]':'CO2 2007',\n",
    "                        '2008 [YR2008]':'CO2 2008',\n",
    "                        '2009 [YR2009]':'CO2 2009',\n",
    "                        '2010 [YR2010]':'CO2 2010',\n",
    "                        '2011 [YR2011]':'CO2 2011',\n",
    "                        '2012 [YR2012]':'CO2 2012',\n",
    "                        '2013 [YR2013]':'CO2 2013',\n",
    "                        '2014 [YR2014]':'CO2 2014',\n",
    "                        '2015 [YR2015]':'CO2 2015',\n",
    "                        '2016 [YR2016]':'CO2 2016',\n",
    "                        '2017 [YR2017]':'CO2 2017',\n",
    "                        '2018 [YR2018]':'CO2 2018',\n",
    "                        '2019 [YR2019]':'CO2 2019',\n",
    "                        '2020 [YR2020]':'CO2 2020'})"
   ]
  },
  {
   "cell_type": "code",
   "execution_count": 7,
   "metadata": {},
   "outputs": [],
   "source": [
    "# Eliminando columnas sin datos\n",
    "\n",
    "co2_raw = co2_raw.drop('2021 [YR2021]', axis=1)\n",
    "co2_raw = co2_raw.drop('2022 [YR2022]', axis=1)"
   ]
  },
  {
   "cell_type": "code",
   "execution_count": 8,
   "metadata": {},
   "outputs": [
    {
     "name": "stdout",
     "output_type": "stream",
     "text": [
      "<class 'pandas.core.frame.DataFrame'>\n",
      "RangeIndex: 8251 entries, 0 to 8250\n",
      "Data columns (total 65 columns):\n",
      " #   Column        Non-Null Count  Dtype  \n",
      "---  ------        --------------  -----  \n",
      " 0   Country Name  8248 non-null   object \n",
      " 1   Country Code  8246 non-null   object \n",
      " 2   Series Name   8246 non-null   object \n",
      " 3   Series Code   8246 non-null   object \n",
      " 4   CO2 1960      1305 non-null   float64\n",
      " 5   CO2 1961      1314 non-null   float64\n",
      " 6   CO2 1962      1328 non-null   float64\n",
      " 7   CO2 1963      1339 non-null   float64\n",
      " 8   CO2 1964      1376 non-null   float64\n",
      " 9   CO2 1965      1382 non-null   float64\n",
      " 10  CO2 1966      1382 non-null   float64\n",
      " 11  CO2 1967      1382 non-null   float64\n",
      " 12  CO2 1968      1382 non-null   float64\n",
      " 13  CO2 1969      1382 non-null   float64\n",
      " 14  CO2 1970      1951 non-null   float64\n",
      " 15  CO2 1971      2627 non-null   float64\n",
      " 16  CO2 1972      2636 non-null   float64\n",
      " 17  CO2 1973      2636 non-null   float64\n",
      " 18  CO2 1974      2636 non-null   float64\n",
      " 19  CO2 1975      2635 non-null   float64\n",
      " 20  CO2 1976      2638 non-null   float64\n",
      " 21  CO2 1977      2643 non-null   float64\n",
      " 22  CO2 1978      2643 non-null   float64\n",
      " 23  CO2 1979      2644 non-null   float64\n",
      " 24  CO2 1980      2663 non-null   float64\n",
      " 25  CO2 1981      2674 non-null   float64\n",
      " 26  CO2 1982      2676 non-null   float64\n",
      " 27  CO2 1983      2676 non-null   float64\n",
      " 28  CO2 1984      2677 non-null   float64\n",
      " 29  CO2 1985      2682 non-null   float64\n",
      " 30  CO2 1986      2689 non-null   float64\n",
      " 31  CO2 1987      2689 non-null   float64\n",
      " 32  CO2 1988      2690 non-null   float64\n",
      " 33  CO2 1989      2693 non-null   float64\n",
      " 34  CO2 1990      6172 non-null   float64\n",
      " 35  CO2 1991      5778 non-null   float64\n",
      " 36  CO2 1992      5948 non-null   float64\n",
      " 37  CO2 1993      5960 non-null   float64\n",
      " 38  CO2 1994      6024 non-null   float64\n",
      " 39  CO2 1995      6026 non-null   float64\n",
      " 40  CO2 1996      6019 non-null   float64\n",
      " 41  CO2 1997      6025 non-null   float64\n",
      " 42  CO2 1998      6027 non-null   float64\n",
      " 43  CO2 1999      6027 non-null   float64\n",
      " 44  CO2 2000      6489 non-null   float64\n",
      " 45  CO2 2001      6074 non-null   float64\n",
      " 46  CO2 2002      6089 non-null   float64\n",
      " 47  CO2 2003      6091 non-null   float64\n",
      " 48  CO2 2004      6125 non-null   float64\n",
      " 49  CO2 2005      6546 non-null   float64\n",
      " 50  CO2 2006      6144 non-null   float64\n",
      " 51  CO2 2007      6150 non-null   float64\n",
      " 52  CO2 2008      6529 non-null   float64\n",
      " 53  CO2 2009      6125 non-null   float64\n",
      " 54  CO2 2010      6511 non-null   float64\n",
      " 55  CO2 2011      6087 non-null   float64\n",
      " 56  CO2 2012      6103 non-null   float64\n",
      " 57  CO2 2013      6106 non-null   float64\n",
      " 58  CO2 2014      6100 non-null   float64\n",
      " 59  CO2 2015      5020 non-null   float64\n",
      " 60  CO2 2016      4957 non-null   float64\n",
      " 61  CO2 2017      3283 non-null   float64\n",
      " 62  CO2 2018      3283 non-null   float64\n",
      " 63  CO2 2019      3279 non-null   float64\n",
      " 64  CO2 2020      3273 non-null   float64\n",
      "dtypes: float64(61), object(4)\n",
      "memory usage: 4.1+ MB\n"
     ]
    }
   ],
   "source": [
    "co2_raw.info()"
   ]
  },
  {
   "cell_type": "code",
   "execution_count": 9,
   "metadata": {},
   "outputs": [],
   "source": [
    "# Filtrado por serie: CO2 emissions (kt)\n",
    "\n",
    "valor_a_filtrar = 'CO2 emissions (kt)'\n",
    "filtro = co2_raw['Series Name'] == valor_a_filtrar\n",
    "\n",
    "co2_emissions_df = co2_raw[filtro]"
   ]
  },
  {
   "cell_type": "code",
   "execution_count": 10,
   "metadata": {},
   "outputs": [
    {
     "name": "stdout",
     "output_type": "stream",
     "text": [
      "                                    Country Name Country Code  \\\n",
      "7                                    Afghanistan          AFG   \n",
      "38                                       Albania          ALB   \n",
      "69                                       Algeria          DZA   \n",
      "100                               American Samoa          ASM   \n",
      "131                                      Andorra          AND   \n",
      "...                                          ...          ...   \n",
      "8098                          Sub-Saharan Africa          SSF   \n",
      "8129  Sub-Saharan Africa (excluding high income)          SSA   \n",
      "8160   Sub-Saharan Africa (IDA & IBRD countries)          TSS   \n",
      "8191                         Upper middle income          UMC   \n",
      "8222                                       World          WLD   \n",
      "\n",
      "             Series Name     Series Code  CO2 1960  CO2 1961  CO2 1962  \\\n",
      "7     CO2 emissions (kt)  EN.ATM.CO2E.KT       NaN       NaN       NaN   \n",
      "38    CO2 emissions (kt)  EN.ATM.CO2E.KT       NaN       NaN       NaN   \n",
      "69    CO2 emissions (kt)  EN.ATM.CO2E.KT       NaN       NaN       NaN   \n",
      "100   CO2 emissions (kt)  EN.ATM.CO2E.KT       NaN       NaN       NaN   \n",
      "131   CO2 emissions (kt)  EN.ATM.CO2E.KT       NaN       NaN       NaN   \n",
      "...                  ...             ...       ...       ...       ...   \n",
      "8098  CO2 emissions (kt)  EN.ATM.CO2E.KT       NaN       NaN       NaN   \n",
      "8129  CO2 emissions (kt)  EN.ATM.CO2E.KT       NaN       NaN       NaN   \n",
      "8160  CO2 emissions (kt)  EN.ATM.CO2E.KT       NaN       NaN       NaN   \n",
      "8191  CO2 emissions (kt)  EN.ATM.CO2E.KT       NaN       NaN       NaN   \n",
      "8222  CO2 emissions (kt)  EN.ATM.CO2E.KT       NaN       NaN       NaN   \n",
      "\n",
      "      CO2 1963  CO2 1964  CO2 1965  ...    CO2 2011    CO2 2012    CO2 2013  \\\n",
      "7          NaN       NaN       NaN  ...    11961.89    10208.13     9402.05   \n",
      "38         NaN       NaN       NaN  ...     5136.70     4541.80     4795.40   \n",
      "69         NaN       NaN       NaN  ...   120784.90   134934.20   139024.10   \n",
      "100        NaN       NaN       NaN  ...         NaN         NaN         NaN   \n",
      "131        NaN       NaN       NaN  ...      490.98      487.31      476.32   \n",
      "...        ...       ...       ...  ...         ...         ...         ...   \n",
      "8098       NaN       NaN       NaN  ...   690836.38   717126.54   755034.18   \n",
      "8129       NaN       NaN       NaN  ...   690428.18   716702.83   754621.98   \n",
      "8160       NaN       NaN       NaN  ...   690836.38   717126.54   755034.18   \n",
      "8191       NaN       NaN       NaN  ... 14683619.21 15046424.84 15496037.52   \n",
      "8222       NaN       NaN       NaN  ... 33079721.35 33460087.50 34119894.39   \n",
      "\n",
      "        CO2 2014    CO2 2015    CO2 2016    CO2 2017    CO2 2018    CO2 2019  \\\n",
      "7        9281.34    10057.59     9294.93    10022.78    10972.38    11238.83   \n",
      "38       5188.00     4797.00     4573.20     5403.70     5316.10     4993.30   \n",
      "69     147735.20   156273.00   154654.30   157704.40   164534.10   170582.40   \n",
      "100          NaN         NaN         NaN         NaN         NaN         NaN   \n",
      "131       461.66      465.33      468.99      465.33      494.64      479.98   \n",
      "...          ...         ...         ...         ...         ...         ...   \n",
      "8098   788024.60   770629.63   781618.46   791456.38   809339.85   833713.85   \n",
      "8129   787567.90   770129.83   781052.86   790885.68   808737.55   833118.55   \n",
      "8160   788024.60   770629.63   781618.46   791456.38   809339.85   833713.85   \n",
      "8191 15550983.46 15348154.71 15332252.10 15680729.34 16265198.32 16546520.02   \n",
      "8222 34261369.66 34070176.85 34145652.30 34687837.09 35560555.79 35477245.40   \n",
      "\n",
      "        CO2 2020  \n",
      "7        8709.47  \n",
      "38       4383.20  \n",
      "69     161563.00  \n",
      "100          NaN  \n",
      "131       448.88  \n",
      "...          ...  \n",
      "8098   760868.11  \n",
      "8129   760269.41  \n",
      "8160   760868.11  \n",
      "8191 16383995.51  \n",
      "8222 33566427.59  \n",
      "\n",
      "[266 rows x 65 columns]\n"
     ]
    }
   ],
   "source": [
    "print(co2_emissions_df)"
   ]
  },
  {
   "cell_type": "code",
   "execution_count": 11,
   "metadata": {},
   "outputs": [],
   "source": [
    "# Eliminamos los años entre 1960-1989 porque no registran datos.\n",
    "\n",
    "co2_emissions_df = co2_emissions_df.drop(['CO2 1960',\n",
    "                                          'CO2 1961',\n",
    "                                          'CO2 1962',\n",
    "                                          'CO2 1963',\n",
    "                                          'CO2 1964',\n",
    "                                          'CO2 1965',\n",
    "                                          'CO2 1966',\n",
    "                                          'CO2 1967',\n",
    "                                          'CO2 1968',\n",
    "                                          'CO2 1969',\n",
    "                                          'CO2 1970',\n",
    "                                          'CO2 1971',\n",
    "                                          'CO2 1972',\n",
    "                                          'CO2 1973',\n",
    "                                          'CO2 1974',\n",
    "                                          'CO2 1975',\n",
    "                                          'CO2 1976',\n",
    "                                          'CO2 1977',\n",
    "                                          'CO2 1978',\n",
    "                                          'CO2 1979',\n",
    "                                          'CO2 1980',\n",
    "                                          'CO2 1981',\n",
    "                                          'CO2 1982',\n",
    "                                          'CO2 1983',\n",
    "                                          'CO2 1984',\n",
    "                                          'CO2 1985',\n",
    "                                          'CO2 1986',\n",
    "                                          'CO2 1987',\n",
    "                                          'CO2 1988',\n",
    "                                          'CO2 1989'], axis=1)"
   ]
  },
  {
   "cell_type": "code",
   "execution_count": 12,
   "metadata": {},
   "outputs": [],
   "source": [
    "# Eliminamos la columna 'Series Code' y 'Series Name\n",
    "\n",
    "co2_emissions_df = co2_emissions_df.drop(['Series Code',\n",
    "                                          'Series Name'], axis=1)"
   ]
  },
  {
   "cell_type": "code",
   "execution_count": 13,
   "metadata": {},
   "outputs": [],
   "source": [
    "# Generamos una columna de identificación de CO2 nueva con el código de país\n",
    "\n",
    "co2_emissions_df['CO2 Code'] = co2_emissions_df['Country Code'].apply(lambda x: x + 'CO2')"
   ]
  },
  {
   "cell_type": "code",
   "execution_count": 14,
   "metadata": {},
   "outputs": [],
   "source": [
    "# Reemplazamos NANs por ceros y redondeamos al segundo decimal\n",
    "\n",
    "co2_emissions_df = co2_emissions_df.fillna(0)\n",
    "co2_emissions_df = co2_emissions_df.round(2)"
   ]
  },
  {
   "cell_type": "markdown",
   "metadata": {},
   "source": [
    "### Set de datos PBI (GDP)"
   ]
  },
  {
   "cell_type": "code",
   "execution_count": 15,
   "metadata": {},
   "outputs": [],
   "source": [
    "# Lectura de archivo\n",
    "\n",
    "gdp_raw = pd.read_csv(\"gdp.csv\")"
   ]
  },
  {
   "cell_type": "code",
   "execution_count": 16,
   "metadata": {},
   "outputs": [],
   "source": [
    "# Eliminación de columna 'Unnamed: 65'\n",
    "\n",
    "gdp_raw = gdp_raw.drop('Unnamed: 65', axis=1)"
   ]
  },
  {
   "cell_type": "code",
   "execution_count": 17,
   "metadata": {},
   "outputs": [],
   "source": [
    "# Renombrado de columna 'Code' a 'Country Code' para que coincida con el dataframe anterior.\n",
    "\n",
    "gdp_raw = gdp_raw.rename(columns={'Code':'Country Code'})"
   ]
  },
  {
   "cell_type": "code",
   "execution_count": 18,
   "metadata": {},
   "outputs": [],
   "source": [
    "# Eliminamos los años 1960-1989 para que coincida con el dataframe de CO2\n",
    "\n",
    "gdp_df = gdp_raw.drop(['1960',\n",
    "                        '1961',\n",
    "                        '1962',\n",
    "                        '1963',\n",
    "                        '1964',\n",
    "                        '1965',\n",
    "                        '1966',\n",
    "                        '1967',\n",
    "                        '1968',\n",
    "                        '1969',\n",
    "                        '1970',\n",
    "                        '1971',\n",
    "                        '1972',\n",
    "                        '1973',\n",
    "                        '1974',\n",
    "                        '1975',\n",
    "                        '1976',\n",
    "                        '1977',\n",
    "                        '1978',\n",
    "                        '1979',\n",
    "                        '1980',\n",
    "                        '1981',\n",
    "                        '1982',\n",
    "                        '1983',\n",
    "                        '1984',\n",
    "                        '1985',\n",
    "                        '1986',\n",
    "                        '1987',\n",
    "                        '1988',\n",
    "                        '1989'], axis=1)"
   ]
  },
  {
   "cell_type": "code",
   "execution_count": 19,
   "metadata": {},
   "outputs": [],
   "source": [
    "# Cambiamos nombres a las columnas\n",
    "\n",
    "gdp_df = gdp_df.rename(columns={'1990':'GDP 1990',\n",
    "                        '1991':'GDP 1991',\n",
    "                        '1992':'GDP 1992',\n",
    "                        '1993':'GDP 1993',\n",
    "                        '1994':'GDP 1994',\n",
    "                        '1995':'GDP 1995',\n",
    "                        '1996':'GDP 1996',\n",
    "                        '1997':'GDP 1997',\n",
    "                        '1998':'GDP 1998',\n",
    "                        '1999':'GDP 1999',\n",
    "                        '2000':'GDP 2000',\n",
    "                        '2001':'GDP 2001',\n",
    "                        '2002':'GDP 2002',\n",
    "                        '2003':'GDP 2003',\n",
    "                        '2004':'GDP 2004',\n",
    "                        '2005':'GDP 2005',\n",
    "                        '2006':'GDP 2006',\n",
    "                        '2007':'GDP 2007',\n",
    "                        '2008':'GDP 2008',\n",
    "                        '2009':'GDP 2009',\n",
    "                        '2010':'GDP 2010',\n",
    "                        '2011':'GDP 2011',\n",
    "                        '2012':'GDP 2012',\n",
    "                        '2013':'GDP 2013',\n",
    "                        '2014':'GDP 2014',\n",
    "                        '2015':'GDP 2015',\n",
    "                        '2016':'GDP 2016',\n",
    "                        '2017':'GDP 2017',\n",
    "                        '2018':'GDP 2018',\n",
    "                        '2019':'GDP 2019',\n",
    "                        '2020':'GDP 2020'})\n"
   ]
  },
  {
   "cell_type": "code",
   "execution_count": 20,
   "metadata": {},
   "outputs": [],
   "source": [
    "## Reemplazamos NANs por ceros y redondeamos al segundo decimal\n",
    "\n",
    "gdp_df = gdp_df.fillna(0)\n",
    "gdp_df = gdp_df.round(2)"
   ]
  },
  {
   "cell_type": "code",
   "execution_count": 21,
   "metadata": {},
   "outputs": [],
   "source": [
    "# Generamos una nueva columna con un código identificador ***GDP\n",
    "\n",
    "gdp_df['GDP Code'] = gdp_df['Country Code'].apply(lambda x: x + 'GDP')\n"
   ]
  },
  {
   "cell_type": "markdown",
   "metadata": {},
   "source": [
    "### Correlación entre CO2 y GDP (año 2020)"
   ]
  },
  {
   "cell_type": "code",
   "execution_count": 22,
   "metadata": {},
   "outputs": [],
   "source": [
    "gdp_2020 = gdp_df.drop(['GDP 1990',\n",
    "                        'GDP 1991',\n",
    "                        'GDP 1992',\n",
    "                        'GDP 1993',\n",
    "                        'GDP 1994',\n",
    "                        'GDP 1995',\n",
    "                        'GDP 1996',\n",
    "                        'GDP 1997',\n",
    "                        'GDP 1998',\n",
    "                        'GDP 1999',\n",
    "                        'GDP 2000',\n",
    "                        'GDP 2001',\n",
    "                        'GDP 2002',\n",
    "                        'GDP 2003',\n",
    "                        'GDP 2004',\n",
    "                        'GDP 2005',\n",
    "                        'GDP 2006',\n",
    "                        'GDP 2007',\n",
    "                        'GDP 2008',\n",
    "                        'GDP 2009',\n",
    "                        'GDP 2010',\n",
    "                        'GDP 2011',\n",
    "                        'GDP 2012',\n",
    "                        'GDP 2013',\n",
    "                        'GDP 2014',\n",
    "                        'GDP 2015',\n",
    "                        'GDP 2016',\n",
    "                        'GDP 2017',\n",
    "                        'GDP 2018',\n",
    "                        'GDP 2019'], axis=1)"
   ]
  },
  {
   "cell_type": "code",
   "execution_count": 23,
   "metadata": {},
   "outputs": [],
   "source": [
    "co2_2020 = co2_emissions_df.drop(\n",
    "                        ['CO2 1990',\n",
    "                        'CO2 1991',\n",
    "                        'CO2 1992',\n",
    "                        'CO2 1993',\n",
    "                        'CO2 1994',\n",
    "                        'CO2 1995',\n",
    "                        'CO2 1996',\n",
    "                        'CO2 1997',\n",
    "                        'CO2 1998',\n",
    "                        'CO2 1999',\n",
    "                        'CO2 2000',\n",
    "                        'CO2 2001',\n",
    "                        'CO2 2002',\n",
    "                        'CO2 2003',\n",
    "                        'CO2 2004',\n",
    "                        'CO2 2005',\n",
    "                        'CO2 2006',\n",
    "                        'CO2 2007',\n",
    "                        'CO2 2008',\n",
    "                        'CO2 2009',\n",
    "                        'CO2 2010',\n",
    "                        'CO2 2011',\n",
    "                        'CO2 2012',\n",
    "                        'CO2 2013',\n",
    "                        'CO2 2014',\n",
    "                        'CO2 2015',\n",
    "                        'CO2 2016',\n",
    "                        'CO2 2017',\n",
    "                        'CO2 2018',\n",
    "                        'CO2 2019'], axis=1)"
   ]
  },
  {
   "cell_type": "code",
   "execution_count": 24,
   "metadata": {},
   "outputs": [],
   "source": [
    "# Dataframe de CO2 y GDP para el año 2020\n",
    "\n",
    "CO2_GDP_2020 = pd.merge(co2_2020, gdp_2020, on='Country Code')\n",
    "\n",
    "CO2_GDP_2020 = CO2_GDP_2020.drop(['Country Name_y'], axis=1)\n",
    "CO2_GDP_2020 = CO2_GDP_2020.rename(columns={'Country Name_x':'Country Name'})"
   ]
  },
  {
   "cell_type": "code",
   "execution_count": 25,
   "metadata": {},
   "outputs": [
    {
     "name": "stderr",
     "output_type": "stream",
     "text": [
      "C:\\Users\\tinch\\AppData\\Local\\Temp\\ipykernel_4624\\2926843666.py:3: FutureWarning: The default value of numeric_only in DataFrame.corr is deprecated. In a future version, it will default to False. Select only valid columns or specify the value of numeric_only to silence this warning.\n",
      "  sns.heatmap(CO2_GDP_2020.corr(),annot=True)\n"
     ]
    },
    {
     "data": {
      "image/png": "[encoded data removed]",
      "text/plain": [
       "<Figure size 640x480 with 2 Axes>"
      ]
     },
     "metadata": {},
     "output_type": "display_data"
    }
   ],
   "source": [
    "# Mapa de calor CO2 vs GDP 2020\n",
    "\n",
    "sns.heatmap(CO2_GDP_2020.corr(),annot=True)\n",
    "\n",
    "plt.rcParams['figure.figsize'] = (20,7)\n",
    "\n",
    "plt.show()"
   ]
  },
  {
   "cell_type": "markdown",
   "metadata": {},
   "source": [
    "### ¿Qué países concentran la mayor cantidad de emisiones de CO2?"
   ]
  },
  {
   "cell_type": "code",
   "execution_count": 31,
   "metadata": {},
   "outputs": [],
   "source": [
    "# dejando solo paises\n",
    "\n",
    "co2_2020_countries = co2_2020.drop(co2_2020.index[217:])"
   ]
  },
  {
   "cell_type": "code",
   "execution_count": 33,
   "metadata": {},
   "outputs": [],
   "source": [
    "co2_2020_countries = co2_2020_countries.reset_index(drop=True)"
   ]
  },
  {
   "cell_type": "code",
   "execution_count": 35,
   "metadata": {},
   "outputs": [],
   "source": [
    "co2_2020_countries = co2_2020_countries.sort_values('CO2 2020', ascending=False)"
   ]
  },
  {
   "cell_type": "code",
   "execution_count": 41,
   "metadata": {},
   "outputs": [
    {
     "data": {
      "text/plain": [
       "count        217.00\n",
       "mean      148943.61\n",
       "std       821874.44\n",
       "min            0.00\n",
       "25%          687.60\n",
       "50%         8312.50\n",
       "75%        46324.30\n",
       "max     10944686.20\n",
       "Name: CO2 2020, dtype: float64"
      ]
     },
     "execution_count": 41,
     "metadata": {},
     "output_type": "execute_result"
    }
   ],
   "source": [
    "# Análisis descriptivo\n",
    "\n",
    "co2_2020_countries['CO2 2020'].describe()"
   ]
  }
 ],
 "metadata": {
  "kernelspec": {
   "display_name": "base",
   "language": "python",
   "name": "python3"
  },
  "language_info": {
   "codemirror_mode": {
    "name": "ipython",
    "version": 3
   },
   "file_extension": ".py",
   "mimetype": "text/x-python",
   "name": "python",
   "nbconvert_exporter": "python",
   "pygments_lexer": "ipython3",
   "version": "3.11.3"
  },
  "orig_nbformat": 4
 },
 "nbformat": 4,
 "nbformat_minor": 2
}
