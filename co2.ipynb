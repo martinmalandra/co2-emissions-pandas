{
 "cells": [
  {
   "cell_type": "markdown",
   "metadata": {},
   "source": [
    "# Análisis Exploratorio De Datos Con Pandas: Emisiones Globales De CO2 y su Relación con el PBI"
   ]
  },
  {
   "cell_type": "markdown",
   "metadata": {},
   "source": [
    "El objetivo del presente proyecto es responder a las siguientes preguntas:\n",
    "\n",
    "* ¿Cuáles son los países que registran mayores emisiones?\n",
    "* ¿Qué correlación existe entre PBI y emisiones de CO2?"
   ]
  },
  {
   "cell_type": "code",
   "execution_count": null,
   "metadata": {},
   "outputs": [],
   "source": [
    "# Preparación de entorno\n",
    "\n",
    "import pandas as pd\n",
    "import numpy as np\n",
    "import matplotlib.pyplot as plt\n",
    "import seaborn as sns"
   ]
  },
  {
   "cell_type": "code",
   "execution_count": null,
   "metadata": {},
   "outputs": [],
   "source": [
    "# Eliminando notación científica\n",
    "\n",
    "pd.set_option('display.float_format', '{:.2f}'.format)"
   ]
  },
  {
   "cell_type": "code",
   "execution_count": null,
   "metadata": {},
   "outputs": [],
   "source": [
    "# Lectura de archivos\n",
    "\n",
    "co2_raw = pd.read_csv(\"co2.csv\", index_col = 'Country Name')"
   ]
  },
  {
   "cell_type": "code",
   "execution_count": null,
   "metadata": {},
   "outputs": [],
   "source": [
    "# Columnas\n",
    "\n",
    "co2_raw.columns"
   ]
  },
  {
   "cell_type": "code",
   "execution_count": null,
   "metadata": {},
   "outputs": [],
   "source": [
    "# df['column_name'] = pd.to_numeric(df['column_name'], errors='coerce')\n",
    "\n",
    "co2_raw['1960 [YR1960]'] = pd.to_numeric(co2_raw['1960 [YR1960]'], errors='coerce') # errors coerce reemplaza los strings por NaN\n",
    "co2_raw['1961 [YR1961]'] = pd.to_numeric(co2_raw['1961 [YR1961]'], errors='coerce')\n",
    "co2_raw['1962 [YR1962]'] = pd.to_numeric(co2_raw['1962 [YR1962]'], errors='coerce')\n",
    "co2_raw['1963 [YR1963]'] = pd.to_numeric(co2_raw['1963 [YR1963]'], errors='coerce')\n",
    "co2_raw['1964 [YR1964]'] = pd.to_numeric(co2_raw['1964 [YR1964]'], errors='coerce')\n",
    "co2_raw['1965 [YR1965]'] = pd.to_numeric(co2_raw['1965 [YR1965]'], errors='coerce')\n",
    "co2_raw['1966 [YR1966]'] = pd.to_numeric(co2_raw['1966 [YR1966]'], errors='coerce')\n",
    "co2_raw['1967 [YR1967]'] = pd.to_numeric(co2_raw['1967 [YR1967]'], errors='coerce')\n",
    "co2_raw['1968 [YR1968]'] = pd.to_numeric(co2_raw['1968 [YR1968]'], errors='coerce')\n",
    "co2_raw['1969 [YR1969]'] = pd.to_numeric(co2_raw['1969 [YR1969]'], errors='coerce')\n",
    "co2_raw['1970 [YR1970]'] = pd.to_numeric(co2_raw['1970 [YR1970]'], errors='coerce')\n",
    "co2_raw['1971 [YR1971]'] = pd.to_numeric(co2_raw['1971 [YR1971]'], errors='coerce')\n",
    "co2_raw['1972 [YR1972]'] = pd.to_numeric(co2_raw['1972 [YR1972]'], errors='coerce')\n",
    "co2_raw['1973 [YR1973]'] = pd.to_numeric(co2_raw['1973 [YR1973]'], errors='coerce')\n",
    "co2_raw['1974 [YR1974]'] = pd.to_numeric(co2_raw['1974 [YR1974]'], errors='coerce')\n",
    "co2_raw['1975 [YR1975]'] = pd.to_numeric(co2_raw['1975 [YR1975]'], errors='coerce')\n",
    "co2_raw['1976 [YR1976]'] = pd.to_numeric(co2_raw['1976 [YR1976]'], errors='coerce')\n",
    "co2_raw['1977 [YR1977]'] = pd.to_numeric(co2_raw['1977 [YR1977]'], errors='coerce')\n",
    "co2_raw['1978 [YR1978]'] = pd.to_numeric(co2_raw['1978 [YR1978]'], errors='coerce')\n",
    "co2_raw['1979 [YR1979]'] = pd.to_numeric(co2_raw['1979 [YR1979]'], errors='coerce')\n",
    "co2_raw['1980 [YR1980]'] = pd.to_numeric(co2_raw['1980 [YR1980]'], errors='coerce')\n",
    "co2_raw['1981 [YR1981]'] = pd.to_numeric(co2_raw['1981 [YR1981]'], errors='coerce')\n",
    "co2_raw['1982 [YR1982]'] = pd.to_numeric(co2_raw['1982 [YR1982]'], errors='coerce')\n",
    "co2_raw['1983 [YR1983]'] = pd.to_numeric(co2_raw['1983 [YR1983]'], errors='coerce')\n",
    "co2_raw['1984 [YR1984]'] = pd.to_numeric(co2_raw['1984 [YR1984]'], errors='coerce')\n",
    "co2_raw['1985 [YR1985]'] = pd.to_numeric(co2_raw['1985 [YR1985]'], errors='coerce')\n",
    "co2_raw['1986 [YR1986]'] = pd.to_numeric(co2_raw['1986 [YR1986]'], errors='coerce')\n",
    "co2_raw['1987 [YR1987]'] = pd.to_numeric(co2_raw['1987 [YR1987]'], errors='coerce')\n",
    "co2_raw['1988 [YR1988]'] = pd.to_numeric(co2_raw['1988 [YR1988]'], errors='coerce')\n",
    "co2_raw['1989 [YR1989]'] = pd.to_numeric(co2_raw['1989 [YR1989]'], errors='coerce')\n",
    "co2_raw['1990 [YR1990]'] = pd.to_numeric(co2_raw['1990 [YR1990]'], errors='coerce')\n",
    "co2_raw['1991 [YR1991]'] = pd.to_numeric(co2_raw['1991 [YR1991]'], errors='coerce')\n",
    "co2_raw['1992 [YR1992]'] = pd.to_numeric(co2_raw['1992 [YR1992]'], errors='coerce')\n",
    "co2_raw['1993 [YR1993]'] = pd.to_numeric(co2_raw['1993 [YR1993]'], errors='coerce')\n",
    "co2_raw['1994 [YR1994]'] = pd.to_numeric(co2_raw['1994 [YR1994]'], errors='coerce')\n",
    "co2_raw['1995 [YR1995]'] = pd.to_numeric(co2_raw['1995 [YR1995]'], errors='coerce')\n",
    "co2_raw['1996 [YR1996]'] = pd.to_numeric(co2_raw['1996 [YR1996]'], errors='coerce')\n",
    "co2_raw['1997 [YR1997]'] = pd.to_numeric(co2_raw['1997 [YR1997]'], errors='coerce')\n",
    "co2_raw['1998 [YR1998]'] = pd.to_numeric(co2_raw['1998 [YR1998]'], errors='coerce')\n",
    "co2_raw['1999 [YR1999]'] = pd.to_numeric(co2_raw['1999 [YR1999]'], errors='coerce')\n",
    "co2_raw['2000 [YR2000]'] = pd.to_numeric(co2_raw['2000 [YR2000]'], errors='coerce')\n",
    "co2_raw['2001 [YR2001]'] = pd.to_numeric(co2_raw['2001 [YR2001]'], errors='coerce')\n",
    "co2_raw['2002 [YR2002]'] = pd.to_numeric(co2_raw['2002 [YR2002]'], errors='coerce')\n",
    "co2_raw['2003 [YR2003]'] = pd.to_numeric(co2_raw['2003 [YR2003]'], errors='coerce')\n",
    "co2_raw['2004 [YR2004]'] = pd.to_numeric(co2_raw['2004 [YR2004]'], errors='coerce')\n",
    "co2_raw['2005 [YR2005]'] = pd.to_numeric(co2_raw['2005 [YR2005]'], errors='coerce')\n",
    "co2_raw['2006 [YR2006]'] = pd.to_numeric(co2_raw['2006 [YR2006]'], errors='coerce')\n",
    "co2_raw['2007 [YR2007]'] = pd.to_numeric(co2_raw['2007 [YR2007]'], errors='coerce')\n",
    "co2_raw['2008 [YR2008]'] = pd.to_numeric(co2_raw['2008 [YR2008]'], errors='coerce')\n",
    "co2_raw['2009 [YR2009]'] = pd.to_numeric(co2_raw['2009 [YR2009]'], errors='coerce')\n",
    "co2_raw['2010 [YR2010]'] = pd.to_numeric(co2_raw['2010 [YR2010]'], errors='coerce')\n",
    "co2_raw['2011 [YR2011]'] = pd.to_numeric(co2_raw['2011 [YR2011]'], errors='coerce')\n",
    "co2_raw['2012 [YR2012]'] = pd.to_numeric(co2_raw['2012 [YR2012]'], errors='coerce')\n",
    "co2_raw['2013 [YR2013]'] = pd.to_numeric(co2_raw['2013 [YR2013]'], errors='coerce')\n",
    "co2_raw['2014 [YR2014]'] = pd.to_numeric(co2_raw['2014 [YR2014]'], errors='coerce')\n",
    "co2_raw['2015 [YR2015]'] = pd.to_numeric(co2_raw['2015 [YR2015]'], errors='coerce')\n",
    "co2_raw['2016 [YR2016]'] = pd.to_numeric(co2_raw['2016 [YR2016]'], errors='coerce')\n",
    "co2_raw['2017 [YR2017]'] = pd.to_numeric(co2_raw['2017 [YR2017]'], errors='coerce')\n",
    "co2_raw['2018 [YR2018]'] = pd.to_numeric(co2_raw['2018 [YR2018]'], errors='coerce')\n",
    "co2_raw['2019 [YR2019]'] = pd.to_numeric(co2_raw['2019 [YR2019]'], errors='coerce')\n",
    "co2_raw['2020 [YR2020]'] = pd.to_numeric(co2_raw['2020 [YR2020]'], errors='coerce')\n"
   ]
  },
  {
   "cell_type": "code",
   "execution_count": null,
   "metadata": {},
   "outputs": [],
   "source": [
    "# df = df.drop('columna1', axis=1)\n",
    "\n",
    "co2_raw = co2_raw.drop('2021 [YR2021]', axis=1)\n",
    "co2_raw = co2_raw.drop('2022 [YR2022]', axis=1)"
   ]
  },
  {
   "cell_type": "code",
   "execution_count": null,
   "metadata": {},
   "outputs": [],
   "source": [
    "co2_raw.info()"
   ]
  },
  {
   "cell_type": "code",
   "execution_count": null,
   "metadata": {},
   "outputs": [],
   "source": [
    "print(co2_raw)"
   ]
  }
 ],
 "metadata": {
  "kernelspec": {
   "display_name": "base",
   "language": "python",
   "name": "python3"
  },
  "language_info": {
   "codemirror_mode": {
    "name": "ipython",
    "version": 3
   },
   "file_extension": ".py",
   "mimetype": "text/x-python",
   "name": "python",
   "nbconvert_exporter": "python",
   "pygments_lexer": "ipython3",
   "version": "3.11.3"
  },
  "orig_nbformat": 4
 },
 "nbformat": 4,
 "nbformat_minor": 2
}
